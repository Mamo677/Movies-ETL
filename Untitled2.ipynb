{
 "cells": [
  {
   "cell_type": "code",
   "execution_count": 24,
   "id": "2e8c7ca0",
   "metadata": {},
   "outputs": [],
   "source": [
    "import json\n",
    "import pandas as pd\n",
    "import numpy as np\n",
    "import re\n",
    "import time\n",
    "import pandas as pd\n",
    "import numpy as np"
   ]
  },
  {
   "cell_type": "code",
   "execution_count": 25,
   "id": "d918fc53",
   "metadata": {},
   "outputs": [
    {
     "name": "stdout",
     "output_type": "stream",
     "text": [
      "Collecting psycopg2\n",
      "  Using cached psycopg2-2.9.2.tar.gz (380 kB)\n",
      "Building wheels for collected packages: psycopg2\n",
      "  Building wheel for psycopg2 (setup.py): started\n",
      "  Building wheel for psycopg2 (setup.py): finished with status 'error'\n",
      "  Running setup.py clean for psycopg2\n",
      "Failed to build psycopg2\n",
      "Installing collected packages: psycopg2\n",
      "    Running setup.py install for psycopg2: started\n",
      "    Running setup.py install for psycopg2: finished with status 'error'\n"
     ]
    },
    {
     "name": "stderr",
     "output_type": "stream",
     "text": [
      "  ERROR: Command errored out with exit status 1:\n",
      "   command: 'C:\\Anaconda38\\python.exe' -u -c 'import sys, setuptools, tokenize; sys.argv[0] = '\"'\"'C:\\\\Users\\\\meare\\\\AppData\\\\Local\\\\Temp\\\\pip-install-_45s9zxf\\\\psycopg2_a46cb35a3ed24238b13a67d80521edda\\\\setup.py'\"'\"'; __file__='\"'\"'C:\\\\Users\\\\meare\\\\AppData\\\\Local\\\\Temp\\\\pip-install-_45s9zxf\\\\psycopg2_a46cb35a3ed24238b13a67d80521edda\\\\setup.py'\"'\"';f=getattr(tokenize, '\"'\"'open'\"'\"', open)(__file__);code=f.read().replace('\"'\"'\\r\\n'\"'\"', '\"'\"'\\n'\"'\"');f.close();exec(compile(code, __file__, '\"'\"'exec'\"'\"'))' bdist_wheel -d 'C:\\Users\\meare\\AppData\\Local\\Temp\\pip-wheel-297595we'\n",
      "       cwd: C:\\Users\\meare\\AppData\\Local\\Temp\\pip-install-_45s9zxf\\psycopg2_a46cb35a3ed24238b13a67d80521edda\\\n",
      "  Complete output (20 lines):\n",
      "  running bdist_wheel\n",
      "  running build\n",
      "  running build_py\n",
      "  creating build\n",
      "  creating build\\lib.win-amd64-3.8\n",
      "  creating build\\lib.win-amd64-3.8\\psycopg2\n",
      "  copying lib\\errorcodes.py -> build\\lib.win-amd64-3.8\\psycopg2\n",
      "  copying lib\\errors.py -> build\\lib.win-amd64-3.8\\psycopg2\n",
      "  copying lib\\extensions.py -> build\\lib.win-amd64-3.8\\psycopg2\n",
      "  copying lib\\extras.py -> build\\lib.win-amd64-3.8\\psycopg2\n",
      "  copying lib\\pool.py -> build\\lib.win-amd64-3.8\\psycopg2\n",
      "  copying lib\\sql.py -> build\\lib.win-amd64-3.8\\psycopg2\n",
      "  copying lib\\tz.py -> build\\lib.win-amd64-3.8\\psycopg2\n",
      "  copying lib\\_ipaddress.py -> build\\lib.win-amd64-3.8\\psycopg2\n",
      "  copying lib\\_json.py -> build\\lib.win-amd64-3.8\\psycopg2\n",
      "  copying lib\\_range.py -> build\\lib.win-amd64-3.8\\psycopg2\n",
      "  copying lib\\__init__.py -> build\\lib.win-amd64-3.8\\psycopg2\n",
      "  running build_ext\n",
      "  building 'psycopg2._psycopg' extension\n",
      "  error: Microsoft Visual C++ 14.0 or greater is required. Get it with \"Microsoft C++ Build Tools\": https://visualstudio.microsoft.com/visual-cpp-build-tools/\n",
      "  ----------------------------------------\n",
      "  ERROR: Failed building wheel for psycopg2\n",
      "    ERROR: Command errored out with exit status 1:\n",
      "     command: 'C:\\Anaconda38\\python.exe' -u -c 'import sys, setuptools, tokenize; sys.argv[0] = '\"'\"'C:\\\\Users\\\\meare\\\\AppData\\\\Local\\\\Temp\\\\pip-install-_45s9zxf\\\\psycopg2_a46cb35a3ed24238b13a67d80521edda\\\\setup.py'\"'\"'; __file__='\"'\"'C:\\\\Users\\\\meare\\\\AppData\\\\Local\\\\Temp\\\\pip-install-_45s9zxf\\\\psycopg2_a46cb35a3ed24238b13a67d80521edda\\\\setup.py'\"'\"';f=getattr(tokenize, '\"'\"'open'\"'\"', open)(__file__);code=f.read().replace('\"'\"'\\r\\n'\"'\"', '\"'\"'\\n'\"'\"');f.close();exec(compile(code, __file__, '\"'\"'exec'\"'\"'))' install --record 'C:\\Users\\meare\\AppData\\Local\\Temp\\pip-record-4mnraodd\\install-record.txt' --single-version-externally-managed --compile --install-headers 'C:\\Anaconda38\\Include\\psycopg2'\n",
      "         cwd: C:\\Users\\meare\\AppData\\Local\\Temp\\pip-install-_45s9zxf\\psycopg2_a46cb35a3ed24238b13a67d80521edda\\\n",
      "    Complete output (20 lines):\n",
      "    running install\n",
      "    running build\n",
      "    running build_py\n",
      "    creating build\n",
      "    creating build\\lib.win-amd64-3.8\n",
      "    creating build\\lib.win-amd64-3.8\\psycopg2\n",
      "    copying lib\\errorcodes.py -> build\\lib.win-amd64-3.8\\psycopg2\n",
      "    copying lib\\errors.py -> build\\lib.win-amd64-3.8\\psycopg2\n",
      "    copying lib\\extensions.py -> build\\lib.win-amd64-3.8\\psycopg2\n",
      "    copying lib\\extras.py -> build\\lib.win-amd64-3.8\\psycopg2\n",
      "    copying lib\\pool.py -> build\\lib.win-amd64-3.8\\psycopg2\n",
      "    copying lib\\sql.py -> build\\lib.win-amd64-3.8\\psycopg2\n",
      "    copying lib\\tz.py -> build\\lib.win-amd64-3.8\\psycopg2\n",
      "    copying lib\\_ipaddress.py -> build\\lib.win-amd64-3.8\\psycopg2\n",
      "    copying lib\\_json.py -> build\\lib.win-amd64-3.8\\psycopg2\n",
      "    copying lib\\_range.py -> build\\lib.win-amd64-3.8\\psycopg2\n",
      "    copying lib\\__init__.py -> build\\lib.win-amd64-3.8\\psycopg2\n",
      "    running build_ext\n",
      "    building 'psycopg2._psycopg' extension\n",
      "    error: Microsoft Visual C++ 14.0 or greater is required. Get it with \"Microsoft C++ Build Tools\": https://visualstudio.microsoft.com/visual-cpp-build-tools/\n",
      "    ----------------------------------------\n",
      "ERROR: Command errored out with exit status 1: 'C:\\Anaconda38\\python.exe' -u -c 'import sys, setuptools, tokenize; sys.argv[0] = '\"'\"'C:\\\\Users\\\\meare\\\\AppData\\\\Local\\\\Temp\\\\pip-install-_45s9zxf\\\\psycopg2_a46cb35a3ed24238b13a67d80521edda\\\\setup.py'\"'\"'; __file__='\"'\"'C:\\\\Users\\\\meare\\\\AppData\\\\Local\\\\Temp\\\\pip-install-_45s9zxf\\\\psycopg2_a46cb35a3ed24238b13a67d80521edda\\\\setup.py'\"'\"';f=getattr(tokenize, '\"'\"'open'\"'\"', open)(__file__);code=f.read().replace('\"'\"'\\r\\n'\"'\"', '\"'\"'\\n'\"'\"');f.close();exec(compile(code, __file__, '\"'\"'exec'\"'\"'))' install --record 'C:\\Users\\meare\\AppData\\Local\\Temp\\pip-record-4mnraodd\\install-record.txt' --single-version-externally-managed --compile --install-headers 'C:\\Anaconda38\\Include\\psycopg2' Check the logs for full command output.\n"
     ]
    }
   ],
   "source": [
    "!pip install psycopg2"
   ]
  },
  {
   "cell_type": "code",
   "execution_count": 26,
   "id": "00477b70",
   "metadata": {},
   "outputs": [],
   "source": [
    "# 6 Create the path to your file directory and variables for the three files. \n",
    "file_dir = file_dir = 'C:/Users/meare/Class_folder/Movies-ETL'\n",
    "# Wikipedia data\n",
    "wiki_file =f'{file_dir}/wikipedia-movies.json'\n",
    "# Kaggle metadata\n",
    "kaggle_file = f'{file_dir}/movies_metadata.csv'\n",
    "# MovieLens rating data.\n",
    "ratings_file = f'{file_dir}/ratings.csv'\n",
    "\n",
    "# 7. Set the three variables in Step 6 equal to the function created in Step 1.\n",
    "#wiki_file, kaggle_file, ratings_file = extract_transform_load()"
   ]
  },
  {
   "cell_type": "code",
   "execution_count": 27,
   "id": "486ba348",
   "metadata": {},
   "outputs": [],
   "source": [
    "# 1. Add the clean movie function that takes in the argument, \"movie\".\n",
    "def clean_movie(movie):\n",
    "    movie = dict(movie) #create a non-destructive copy\n",
    "    alt_titles = {}\n",
    "    for key in ['Also known as','Arabic','Cantonese','Chinese','French',\n",
    "                'Hangul','Hebrew','Hepburn','Japanese','Literally',\n",
    "                'Mandarin','McCune–Reischauer','Original title','Polish',\n",
    "                'Revised Romanization','Romanized','Russian',\n",
    "                'Simplified','Traditional','Yiddish']:\n",
    "        if key in movie:\n",
    "            alt_titles[key] = movie[key]\n",
    "            movie.pop(key)\n",
    "    if len(alt_titles) > 0:\n",
    "        movie['alt_titles'] = alt_titles\n",
    "\n",
    "    return movie"
   ]
  },
  {
   "cell_type": "code",
   "execution_count": null,
   "id": "52826648",
   "metadata": {},
   "outputs": [],
   "source": []
  },
  {
   "cell_type": "code",
   "execution_count": null,
   "id": "19c6dfa7",
   "metadata": {},
   "outputs": [],
   "source": []
  },
  {
   "cell_type": "code",
   "execution_count": 28,
   "id": "cf11d725",
   "metadata": {},
   "outputs": [],
   "source": [
    "def three_arguments_func():\n",
    "    # 2. Read in the kaggle metadata and MovieLens ratings CSV files as Pandas DataFrames.\n",
    "    kaggle_metadata = pd.read_csv(f'{file_dir}movies_metadata.csv', low_memory=False)\n",
    "    ratings = pd.read_csv(f'{file_dir}ratings.csv')"
   ]
  },
  {
   "cell_type": "code",
   "execution_count": 29,
   "id": "5d248498",
   "metadata": {},
   "outputs": [],
   "source": [
    "# Open and read the Wikipedia data JSON file.\n",
    "f'{file_dir}wikipedia-movies.json'\n",
    "with open(f'{file_dir}/wikipedia-movies.json', mode='r') as file:\n",
    "    wiki_movies_raw = json.load(file)\n",
    "    wiki_movies_df = pd.DataFrame(wiki_movies_raw)"
   ]
  },
  {
   "cell_type": "code",
   "execution_count": 7,
   "id": "5b0231be",
   "metadata": {},
   "outputs": [
    {
     "name": "stdout",
     "output_type": "stream",
     "text": [
      "                                                    url    year  \\\n",
      "0     https://en.wikipedia.org/wiki/The_Adventures_o...  1990.0   \n",
      "1     https://en.wikipedia.org/wiki/After_Dark,_My_S...  1990.0   \n",
      "2      https://en.wikipedia.org/wiki/Air_America_(film)  1990.0   \n",
      "3       https://en.wikipedia.org/wiki/Alice_(1990_film)  1990.0   \n",
      "4         https://en.wikipedia.org/wiki/Almost_an_Angel  1990.0   \n",
      "...                                                 ...     ...   \n",
      "7306    https://en.wikipedia.org/wiki/Holmes_%26_Watson  2018.0   \n",
      "7307     https://en.wikipedia.org/wiki/Vice_(2018_film)  2018.0   \n",
      "7308  https://en.wikipedia.org/wiki/On_the_Basis_of_Sex  2018.0   \n",
      "7309  https://en.wikipedia.org/wiki/Destroyer_(2018_...  2018.0   \n",
      "7310  https://en.wikipedia.org/wiki/Black_Mirror:_Ba...  2018.0   \n",
      "\n",
      "                                  imdb_link                            title  \\\n",
      "0     https://www.imdb.com/title/tt0098987/  The Adventures of Ford Fairlane   \n",
      "1     https://www.imdb.com/title/tt0098994/             After Dark, My Sweet   \n",
      "2     https://www.imdb.com/title/tt0099005/                      Air America   \n",
      "3     https://www.imdb.com/title/tt0099012/                            Alice   \n",
      "4     https://www.imdb.com/title/tt0099018/                  Almost an Angel   \n",
      "...                                     ...                              ...   \n",
      "7306  https://www.imdb.com/title/tt1255919/                  Holmes & Watson   \n",
      "7307  https://www.imdb.com/title/tt6266538/                             Vice   \n",
      "7308  https://www.imdb.com/title/tt4669788/              On the Basis of Sex   \n",
      "7309  https://www.imdb.com/title/tt7137380/                        Destroyer   \n",
      "7310  https://www.imdb.com/title/tt9495224/                     Bandersnatch   \n",
      "\n",
      "             Directed by                                        Produced by  \\\n",
      "0           Renny Harlin                         [Steve Perry, Joel Silver]   \n",
      "1            James Foley                        [Ric Kidney, Robert Redlin]   \n",
      "2     Roger Spottiswoode                                     Daniel Melnick   \n",
      "3            Woody Allen                                    Robert Greenhut   \n",
      "4           John Cornell                                       John Cornell   \n",
      "...                  ...                                                ...   \n",
      "7306          Etan Cohen  [Will Ferrell, Adam McKay, Jimmy Miller, Clayt...   \n",
      "7307          Adam McKay  [Brad Pitt, Dede Gardner, Jeremy Kleiner, Kevi...   \n",
      "7308          Mimi Leder                                     Robert W. Cort   \n",
      "7309        Karyn Kusama             [Fred Berger, Phil Hay, Matt Manfredi]   \n",
      "7310         David Slade                                     Russell McLean   \n",
      "\n",
      "                                   Screenplay by                     Story by  \\\n",
      "0     [David Arnott, James Cappe, Daniel Waters]  [David Arnott, James Cappe]   \n",
      "1                   [James Foley, Robert Redlin]                          NaN   \n",
      "2                     [John Eskow, Richard Rush]                          NaN   \n",
      "3                                            NaN                          NaN   \n",
      "4                                            NaN                          NaN   \n",
      "...                                          ...                          ...   \n",
      "7306                                  Etan Cohen                          NaN   \n",
      "7307                                         NaN                          NaN   \n",
      "7308                                         NaN                          NaN   \n",
      "7309                                         NaN                          NaN   \n",
      "7310                                         NaN                          NaN   \n",
      "\n",
      "                                               Based on  \\\n",
      "0                           [Characters, by Rex Weiner]   \n",
      "1     [the novel, After Dark, My Sweet, by, Jim Thom...   \n",
      "2                [Air America, by, Christopher Robbins]   \n",
      "3                                                   NaN   \n",
      "4                                                   NaN   \n",
      "...                                                 ...   \n",
      "7306  [Sherlock Holmes, and, Dr. Watson, by, Sir Art...   \n",
      "7307                                                NaN   \n",
      "7308                                                NaN   \n",
      "7309                                                NaN   \n",
      "7310                                                NaN   \n",
      "\n",
      "                                               Starring  ... Predecessor  \\\n",
      "0     [Andrew Dice Clay, Wayne Newton, Priscilla Pre...  ...         NaN   \n",
      "1     [Jason Patric, Rachel Ward, Bruce Dern, George...  ...         NaN   \n",
      "2     [Mel Gibson, Robert Downey Jr., Nancy Travis, ...  ...         NaN   \n",
      "3     [Alec Baldwin, Blythe Danner, Judy Davis, Mia ...  ...         NaN   \n",
      "4           [Paul Hogan, Elias Koteas, Linda Kozlowski]  ...         NaN   \n",
      "...                                                 ...  ...         ...   \n",
      "7306  [Will Ferrell, John C. Reilly, Rebecca Hall, R...  ...         NaN   \n",
      "7307  [Christian Bale, Amy Adams, Steve Carell, Sam ...  ...         NaN   \n",
      "7308  [Felicity Jones, Armie Hammer, Justin Theroux,...  ...         NaN   \n",
      "7309  [Nicole Kidman, Sebastian Stan, Toby Kebbell, ...  ...         NaN   \n",
      "7310  [Fionn Whitehead, Will Poulter, Craig Parkinso...  ...         NaN   \n",
      "\n",
      "     Founders Area served Products Services Russian Hebrew Revenue  \\\n",
      "0         NaN         NaN      NaN      NaN     NaN    NaN     NaN   \n",
      "1         NaN         NaN      NaN      NaN     NaN    NaN     NaN   \n",
      "2         NaN         NaN      NaN      NaN     NaN    NaN     NaN   \n",
      "3         NaN         NaN      NaN      NaN     NaN    NaN     NaN   \n",
      "4         NaN         NaN      NaN      NaN     NaN    NaN     NaN   \n",
      "...       ...         ...      ...      ...     ...    ...     ...   \n",
      "7306      NaN         NaN      NaN      NaN     NaN    NaN     NaN   \n",
      "7307      NaN         NaN      NaN      NaN     NaN    NaN     NaN   \n",
      "7308      NaN         NaN      NaN      NaN     NaN    NaN     NaN   \n",
      "7309      NaN         NaN      NaN      NaN     NaN    NaN     NaN   \n",
      "7310      NaN         NaN      NaN      NaN     NaN    NaN     NaN   \n",
      "\n",
      "     Operating income Polish  \n",
      "0                 NaN    NaN  \n",
      "1                 NaN    NaN  \n",
      "2                 NaN    NaN  \n",
      "3                 NaN    NaN  \n",
      "4                 NaN    NaN  \n",
      "...               ...    ...  \n",
      "7306              NaN    NaN  \n",
      "7307              NaN    NaN  \n",
      "7308              NaN    NaN  \n",
      "7309              NaN    NaN  \n",
      "7310              NaN    NaN  \n",
      "\n",
      "[7311 rows x 193 columns]\n"
     ]
    }
   ],
   "source": [
    "print(wiki_movies_df)"
   ]
  },
  {
   "cell_type": "code",
   "execution_count": 30,
   "id": "b59b1c48",
   "metadata": {},
   "outputs": [],
   "source": [
    "# 3. Write a list comprehension to filter out TV shows.\n",
    "wiki_tv = [tvshows for tvshows in wiki_movies_raw \n",
    "if 'Television series' in tvshows] "
   ]
  },
  {
   "cell_type": "code",
   "execution_count": 31,
   "id": "3e41d5f4",
   "metadata": {},
   "outputs": [],
   "source": [
    "# 4. Write a list comprehension to iterate through the cleaned wiki movies list\n",
    "# and call the clean_movie function on each movie.\n",
    "clean_movies = [clean_movie(movie) for movie in wiki_movies_raw]    \n"
   ]
  },
  {
   "cell_type": "code",
   "execution_count": 32,
   "id": "b55d51f5",
   "metadata": {},
   "outputs": [
    {
     "name": "stdout",
     "output_type": "stream",
     "text": [
      "<function clean_movie at 0x000002581EA22E50>\n"
     ]
    }
   ],
   "source": [
    "print(clean_movie)"
   ]
  },
  {
   "cell_type": "code",
   "execution_count": 33,
   "id": "dd820189",
   "metadata": {},
   "outputs": [],
   "source": [
    "wiki_movies_df = pd.DataFrame(clean_movies)\n"
   ]
  },
  {
   "cell_type": "code",
   "execution_count": 34,
   "id": "d11a86ca",
   "metadata": {},
   "outputs": [],
   "source": [
    "#print(wiki_movies)"
   ]
  },
  {
   "cell_type": "code",
   "execution_count": 35,
   "id": "69444ead",
   "metadata": {},
   "outputs": [],
   "source": [
    "# 6. Write a try-except block to catch errors while extracting the IMDb ID using a regular expression string and\n",
    "#  dropping any imdb_id duplicates. If there is an error, capture and print the exception.\n",
    "try:\n",
    "    wiki_movies_df['imdb_id'] = wiki_movies_df['imdb_link'].str.extract(r'(tt\\d{7})')\n",
    "    wiki_movies_df.drop_duplicates(subset='imdb_id', inplace=True)\n",
    "\n",
    "except: \n",
    "    print(\"No link avialable\")"
   ]
  },
  {
   "cell_type": "code",
   "execution_count": 14,
   "id": "2c4cff7e",
   "metadata": {},
   "outputs": [],
   "source": [
    "wiki_columns_to_keep = [column for column in wiki_movies_df.columns if wiki_movies_df[column].isnull().sum() < len(wiki_movies_df) * 0.9]\n",
    "wiki_movies_df = wiki_movies_df[wiki_columns_to_keep]  "
   ]
  },
  {
   "cell_type": "code",
   "execution_count": 15,
   "id": "ae6f2f83",
   "metadata": {},
   "outputs": [],
   "source": [
    "# 8. Create a variable that will hold the non-null values from the “Box office” column.\n",
    "box_office = wiki_movies_df['Box office'].dropna()\n"
   ]
  },
  {
   "cell_type": "code",
   "execution_count": 16,
   "id": "12de6ed7",
   "metadata": {},
   "outputs": [
    {
     "data": {
      "text/plain": [
       "34                           [US$, 4,212,828]\n",
       "56      [$6,698,361 (, United States, ), [2]]\n",
       "77                    [$6,488,144, (US), [1]]\n",
       "129                [US$1,531,489, (domestic)]\n",
       "133                          [US$, 4,803,039]\n",
       "                        ...                  \n",
       "7212               [$99.6, million, [4], [5]]\n",
       "7226                   [$365.6, million, [1]]\n",
       "7227                         [$53.8, million]\n",
       "7249                     [$435, million, [7]]\n",
       "7283                   [$529.3, million, [4]]\n",
       "Name: Box office, Length: 135, dtype: object"
      ]
     },
     "execution_count": 16,
     "metadata": {},
     "output_type": "execute_result"
    }
   ],
   "source": [
    "# 9. Convert the box office data created in Step 8 to string values using the lambda and join functions.\n",
    "box_office[box_office.map(lambda x: type(x) != str)] "
   ]
  },
  {
   "cell_type": "code",
   "execution_count": 36,
   "id": "6fe38b37",
   "metadata": {},
   "outputs": [],
   "source": [
    "# 10. Write a regular expression to match the six elements of \"form_one\" of the box office data.\n",
    "form_one = r'\\$\\s*\\d+\\.?\\d*\\s*[mb]illi?on'"
   ]
  },
  {
   "cell_type": "code",
   "execution_count": 37,
   "id": "647cf866",
   "metadata": {},
   "outputs": [],
   "source": [
    "# 11. Write a regular expression to match the three elements of \"form_two\" of the box office data.\n",
    "form_two = r'\\$\\s*\\d{1,3}(?:[,\\.]\\d{3})+(?!\\s[mb]illion)'    \n"
   ]
  },
  {
   "cell_type": "code",
   "execution_count": 38,
   "id": "858601c6",
   "metadata": {},
   "outputs": [],
   "source": [
    "# 12. Add the parse_dollars function.\n",
    "def parse_dollars(s):\n",
    "    if type(s) != str:\n",
    "        return np.nan\n",
    "    if re.match(r'\\$\\s*\\d+\\.?\\d*\\s*milli?on', s, flags=re.IGNORECASE):\n",
    "        s = re.sub('\\$|\\s|[a-zA-Z]','', s)\n",
    "        value = float(s) * 10**6\n",
    "        return value\n",
    "    elif re.match(r'\\$\\s*\\d+\\.?\\d*\\s*billi?on', s, flags=re.IGNORECASE):\n",
    "        s = re.sub('\\$|\\s|[a-zA-Z]','', s)\n",
    "        value = float(s) * 10**9\n",
    "        return value\n",
    "    elif re.match(r'\\$\\s*\\d{1,3}(?:[,\\.]\\d{3})+(?!\\s[mb]illion)', s, flags=re.IGNORECASE):\n",
    "        s = re.sub('\\$|,','', s)\n",
    "        value = float(s)\n",
    "        return value\n",
    "    else:\n",
    "        return np.nan"
   ]
  },
  {
   "cell_type": "code",
   "execution_count": 39,
   "id": "78aa471b",
   "metadata": {},
   "outputs": [],
   "source": [
    "# 13. Clean the box office column in the wiki_movies_df DataFrame.\n",
    "wiki_movies_df['box_office'] = box_office.str.extract(f'({form_one}|{form_two})', flags=re.IGNORECASE)[0].apply(parse_dollars)\n",
    "wiki_movies_df.drop('Box office', axis=1, inplace=True)\n"
   ]
  },
  {
   "cell_type": "code",
   "execution_count": 21,
   "id": "c9075475",
   "metadata": {},
   "outputs": [
    {
     "name": "stderr",
     "output_type": "stream",
     "text": [
      "<ipython-input-21-d7e6f69b2fcd>:12: FutureWarning: The default value of regex will change from True to False in a future version.\n",
      "  budget = budget.str.replace(r'\\[\\d+\\]\\s*', '')\n"
     ]
    }
   ],
   "source": [
    "# 14. Clean the budget column in the wiki_movies_df DataFrame.\n",
    "budget = wiki_movies_df['Budget'].dropna()\n",
    "\n",
    "budget = budget.map(lambda x: ' '.join(x) if type(x) == list else x)\n",
    "\n",
    "budget = budget.str.replace(r'\\$.*[-—–](?![a-z])', '$', regex=True)\n",
    "\n",
    "matches_form_one = budget.str.contains(form_one, flags=re.IGNORECASE)\n",
    "matches_form_two = budget.str.contains(form_two, flags=re.IGNORECASE)\n",
    "budget[~matches_form_one & ~matches_form_two]\n",
    "\n",
    "budget = budget.str.replace(r'\\[\\d+\\]\\s*', '')\n",
    "budget[~matches_form_one & ~matches_form_two]\n",
    "\n",
    "wiki_movies_df['budget'] = budget.str.extract(f'({form_one}|{form_two})', flags=re.IGNORECASE)[0].apply(parse_dollars)\n",
    "\n",
    "wiki_movies_df.drop('Budget', axis=1, inplace=True) "
   ]
  },
  {
   "cell_type": "code",
   "execution_count": 22,
   "id": "6340da63",
   "metadata": {},
   "outputs": [],
   "source": [
    "# 15. Clean the release date column in the wiki_movies_df DataFrame.\n",
    "release_date = wiki_movies_df['Release date'].dropna().apply(lambda x: ' '.join(x) if type(x) == list else x)\n",
    "\n",
    "date_form_one = r'(?:January|February|March|April|May|June|July|August|September|October|November|December)\\s[123]\\d,\\s\\d{4}'\n",
    "date_form_two = r'\\d{4}.[01]\\d.[123]\\d'\n",
    "date_form_three = r'(?:January|February|March|April|May|June|July|August|September|October|November|December)\\s\\d{4}'\n",
    "date_form_four = r'\\d{4}'\n",
    "\n",
    "release_date.str.extract(f'({date_form_one}|{date_form_two}|{date_form_three}|{date_form_four})', flags=re.IGNORECASE)\n",
    "\n",
    "wiki_movies_df['release_date'] = pd.to_datetime(release_date.str.extract(f'({date_form_one}|{date_form_two}|{date_form_three}|{date_form_four})')[0], infer_datetime_format=True)\n"
   ]
  },
  {
   "cell_type": "code",
   "execution_count": 1,
   "id": "f6c63f26",
   "metadata": {},
   "outputs": [
    {
     "ename": "NameError",
     "evalue": "name 'wiki_movies_df' is not defined",
     "output_type": "error",
     "traceback": [
      "\u001b[1;31m---------------------------------------------------------------------------\u001b[0m",
      "\u001b[1;31mNameError\u001b[0m                                 Traceback (most recent call last)",
      "\u001b[1;32m<ipython-input-1-35d3792d3351>\u001b[0m in \u001b[0;36m<module>\u001b[1;34m\u001b[0m\n\u001b[0;32m      1\u001b[0m \u001b[1;31m# 16. Clean the running time column in the wiki_movies_df DataFrame.\u001b[0m\u001b[1;33m\u001b[0m\u001b[1;33m\u001b[0m\u001b[1;33m\u001b[0m\u001b[0m\n\u001b[1;32m----> 2\u001b[1;33m \u001b[0mrunning_time\u001b[0m \u001b[1;33m=\u001b[0m \u001b[0mwiki_movies_df\u001b[0m\u001b[1;33m[\u001b[0m\u001b[1;34m'Running time'\u001b[0m\u001b[1;33m]\u001b[0m\u001b[1;33m.\u001b[0m\u001b[0mdropna\u001b[0m\u001b[1;33m(\u001b[0m\u001b[1;33m)\u001b[0m\u001b[1;33m.\u001b[0m\u001b[0mapply\u001b[0m\u001b[1;33m(\u001b[0m\u001b[1;32mlambda\u001b[0m \u001b[0mx\u001b[0m\u001b[1;33m:\u001b[0m \u001b[1;34m' '\u001b[0m\u001b[1;33m.\u001b[0m\u001b[0mjoin\u001b[0m\u001b[1;33m(\u001b[0m\u001b[0mx\u001b[0m\u001b[1;33m)\u001b[0m \u001b[1;32mif\u001b[0m \u001b[0mtype\u001b[0m\u001b[1;33m(\u001b[0m\u001b[0mx\u001b[0m\u001b[1;33m)\u001b[0m \u001b[1;33m==\u001b[0m \u001b[0mlist\u001b[0m \u001b[1;32melse\u001b[0m \u001b[0mx\u001b[0m\u001b[1;33m)\u001b[0m\u001b[1;33m\u001b[0m\u001b[1;33m\u001b[0m\u001b[0m\n\u001b[0m\u001b[0;32m      3\u001b[0m \u001b[1;33m\u001b[0m\u001b[0m\n\u001b[0;32m      4\u001b[0m \u001b[0mrunning_time_extract\u001b[0m \u001b[1;33m=\u001b[0m \u001b[0mrunning_time\u001b[0m\u001b[1;33m.\u001b[0m\u001b[0mstr\u001b[0m\u001b[1;33m.\u001b[0m\u001b[0mextract\u001b[0m\u001b[1;33m(\u001b[0m\u001b[1;34mr'(\\d+)\\s*ho?u?r?s?\\s*(\\d*)|(\\d+)\\s*m'\u001b[0m\u001b[1;33m)\u001b[0m\u001b[1;33m\u001b[0m\u001b[1;33m\u001b[0m\u001b[0m\n\u001b[0;32m      5\u001b[0m \u001b[1;33m\u001b[0m\u001b[0m\n",
      "\u001b[1;31mNameError\u001b[0m: name 'wiki_movies_df' is not defined"
     ]
    }
   ],
   "source": [
    "# 16. Clean the running time column in the wiki_movies_df DataFrame.\n",
    "running_time = wiki_movies_df['Running time'].dropna().apply(lambda x: ' '.join(x) if type(x) == list else x)\n",
    "\n",
    "running_time_extract = running_time.str.extract(r'(\\d+)\\s*ho?u?r?s?\\s*(\\d*)|(\\d+)\\s*m')\n",
    "\n",
    "running_time_extract = running_time_extract.apply(lambda col: pd.to_numeric(col, errors='coerce')).fillna(0)\n",
    "\n",
    "wiki_movies_df['running_time'] = running_time_extract.apply(lambda row: row[0]*60 + row[1] if row[2] == 0 else row[2], axis=1)\n",
    "\n",
    "wiki_movies_df.drop('Running time', axis=1, inplace=True)\n",
    "\n",
    "# Return three variables. The first is the wiki_movies_df DataFrame\n",
    "return wiki_movies_df, kaggle_metadata, ratings "
   ]
  },
  {
   "cell_type": "code",
   "execution_count": null,
   "id": "5e445586",
   "metadata": {},
   "outputs": [],
   "source": [
    "# 17. Create the path to your file directory and variables for the three files.\n",
    "file_dir = 'C:/Users/meare/Class_folder/Movies-ETL'\n",
    "# The Wikipedia data\n",
    "wiki_file = f'{file_dir}/wikipedia.movies.json'\n",
    "# The Kaggle metadata\n",
    "kaggle_file = f'{file_dir}/movies_metadata.csv'\n",
    "# The MovieLens rating data.\n",
    "ratings_file = f'{file_dir}/ratings.csv'"
   ]
  },
  {
   "cell_type": "code",
   "execution_count": null,
   "id": "40405727",
   "metadata": {},
   "outputs": [],
   "source": [
    "# 18. Set the three variables equal to the function created in D1.\n",
    "wiki_file, kaggle_file, ratings_file = three_arguments_func()"
   ]
  },
  {
   "cell_type": "code",
   "execution_count": null,
   "id": "8bcad7ca",
   "metadata": {},
   "outputs": [],
   "source": [
    "# 19. Set the wiki_movies_df equal to the wiki_file variable. \n",
    "wiki_movies_df = wiki_file"
   ]
  },
  {
   "cell_type": "code",
   "execution_count": null,
   "id": "3270cfa9",
   "metadata": {},
   "outputs": [],
   "source": [
    "# 20. Check that the wiki_movies_df DataFrame looks like this. \n",
    "wiki_movies_df.head()"
   ]
  }
 ],
 "metadata": {
  "kernelspec": {
   "display_name": "Python 3",
   "language": "python",
   "name": "python3"
  },
  "language_info": {
   "codemirror_mode": {
    "name": "ipython",
    "version": 3
   },
   "file_extension": ".py",
   "mimetype": "text/x-python",
   "name": "python",
   "nbconvert_exporter": "python",
   "pygments_lexer": "ipython3",
   "version": "3.8.8"
  }
 },
 "nbformat": 4,
 "nbformat_minor": 5
}
